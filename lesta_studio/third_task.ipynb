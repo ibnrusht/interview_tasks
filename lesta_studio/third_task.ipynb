{
 "cells": [
  {
   "cell_type": "markdown",
   "metadata": {},
   "source": [
    "<h1>Вступительное задание для вакансии Junior Python Programmer (стажер)</h1>"
   ]
  },
  {
   "cell_type": "markdown",
   "metadata": {},
   "source": [
    "3. На языке Python реализовать функцию, которая быстрее всего (по процессорным тикам) отсортирует данный ей массив чисел. Массив может быть любого размера со случайным порядком чисел (в том числе и отсортированным). Объяснить почему вы считаете, что функция соответствует заданным критериям."
   ]
  },
  {
   "cell_type": "markdown",
   "metadata": {},
   "source": [
    "<h2>Решение</h2>\n",
    "\n",
    "Наиболее популярным алгоритмом сортировки на данный момент является Timsort. Именно он реализован в методе sort() в Python. Он стабилен для различных типов массивов (к примеру quicksort деградирует до O(n<sup>2</sup>) в специально подобранных списках), поэтому для такой постановки он подойдёт лучше всего.\n",
    "С другой стороны, массив может быть любого размера, а если быть точнее, то он может храниться где-нибудь на hdd или sdd и весить десятки гигабайт и не влезать в RAM. ~~Тут лучше использовать С/С++.~~\n",
    "\n",
    "Такой массив можно разбить на несколько частей, отсортировать их, а затем объединить эти части."
   ]
  },
  {
   "cell_type": "code",
   "execution_count": 9,
   "metadata": {},
   "outputs": [],
   "source": [
    "import glob\n",
    "from os import remove\n",
    "from heapq import merge\n",
    "\n",
    "class large_list:\n",
    "\n",
    "    def __init__(self, path):\n",
    "        self.path = path\n",
    "\n",
    "    def __chunking(self, chunksize):\n",
    "        lines = []\n",
    "        fid = 0\n",
    "        with open(self.path, 'r') as f_in:\n",
    "            f_out = open('chunk_{}.tsv'.format(fid), 'w')\n",
    "            for line_num, line in enumerate(f_in, 1):\n",
    "                lines.append(line)\n",
    "                if not line_num % chunksize:\n",
    "                    lines.sort(key=int)\n",
    "                    f_out.writelines(lines)\n",
    "                    f_out.close()\n",
    "                    lines = []\n",
    "                    fid += 1\n",
    "                    f_out = open('chunk_{}.tsv'.format(fid), 'w')\n",
    "\n",
    "            # последний кусок большого массива может быть меньше chunksize\n",
    "            if lines:\n",
    "                lines.sort()\n",
    "                f_out.writelines(lines)\n",
    "                f_out.close()\n",
    "                lines = []\n",
    "\n",
    "    \n",
    "    def __rm_chunkfiles(self):\n",
    "        path = \"chunk_*.tsv\"\n",
    "        for filename in glob.glob(path):\n",
    "            remove(filename)\n",
    "\n",
    "    def sort(self, chunksize):\n",
    "        self.__chunking(chunksize)\n",
    "        chunks = []\n",
    "        path = \"chunk_*.tsv\"\n",
    "        for filename in glob.glob(path):\n",
    "            chunks += [open(filename, 'r')]\n",
    "        \n",
    "        with open('sorted.tsv', 'w') as f_out:\n",
    "            f_out.writelines(merge(*chunks, key=int))\n",
    "        \n",
    "        self.__rm_chunkfiles()"
   ]
  },
  {
   "cell_type": "markdown",
   "metadata": {},
   "source": [
    "Проверим методы класса на файле, содержащем рандомные числа."
   ]
  },
  {
   "cell_type": "code",
   "execution_count": 10,
   "metadata": {},
   "outputs": [],
   "source": [
    "from random import randint\n",
    "row = '{}\\n'\n",
    "with open('large_file.tsv', 'w') as f_out:\n",
    "    for i in range(300_000):\n",
    "        f_out.write(row.format(randint(1, 2147483647)))\n",
    "f_out.close()"
   ]
  },
  {
   "cell_type": "code",
   "execution_count": 11,
   "metadata": {},
   "outputs": [],
   "source": [
    "lfile = large_list(\"large_file.tsv\")\n",
    "lfile.sort(10000)"
   ]
  }
 ],
 "metadata": {
  "kernelspec": {
   "display_name": "Python 3.10.4 64-bit",
   "language": "python",
   "name": "python3"
  },
  "language_info": {
   "codemirror_mode": {
    "name": "ipython",
    "version": 3
   },
   "file_extension": ".py",
   "mimetype": "text/x-python",
   "name": "python",
   "nbconvert_exporter": "python",
   "pygments_lexer": "ipython3",
   "version": "3.10.4"
  },
  "orig_nbformat": 4,
  "vscode": {
   "interpreter": {
    "hash": "916dbcbb3f70747c44a77c7bcd40155683ae19c65e1c03b4aa3499c5328201f1"
   }
  }
 },
 "nbformat": 4,
 "nbformat_minor": 2
}
