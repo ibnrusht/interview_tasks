{
 "cells": [
  {
   "cell_type": "markdown",
   "metadata": {},
   "source": [
    "<h1>Вступительное задание для вакансии Junior Python Programmer (стажер)</h1>"
   ]
  },
  {
   "cell_type": "markdown",
   "metadata": {},
   "source": [
    "2. На языке Python (2.7) реализовать минимум по 2 класса реализовывающих циклический буфер FIFO. Объяснить плюсы и минусы каждой реализации."
   ]
  },
  {
   "cell_type": "markdown",
   "metadata": {},
   "source": [
    "Для выполнения данного задания, я создал virtual enviroment c python2.7 в директории second_task и установил этот venv в качестве kernel для jupyter."
   ]
  },
  {
   "cell_type": "markdown",
   "metadata": {},
   "source": [
    "<h2>Первый вариант реализации очереди</h2>"
   ]
  },
  {
   "cell_type": "code",
   "execution_count": 11,
   "metadata": {},
   "outputs": [],
   "source": [
    "class queue1:\n",
    "    def __init__(self, len):\n",
    "        self.value = []\n",
    "        self.length = len\n",
    "        self.index = 0\n",
    "        self.full = 0\n",
    "\n",
    "    def append(self, x):\n",
    "        if self.index < self.length and self.full == 0:\n",
    "            self.index += 1\n",
    "            self.value.append(x)\n",
    "        else:\n",
    "            self.full = 1\n",
    "            if self.index + 1 >= self.length:\n",
    "                self.index = 0\n",
    "            else:\n",
    "                self.index += 1\n",
    "            self.value[self.index] = x\n",
    "\n",
    "    def get(self):\n",
    "        ret = 0\n",
    "        if self.value:\n",
    "            ret = self.value.pop(0)\n",
    "            self.full = 0\n",
    "            if self.index > 0:\n",
    "                self.index -= 1\n",
    "        return ret\n"
   ]
  },
  {
   "cell_type": "markdown",
   "metadata": {},
   "source": [
    "Ниже представлена демонстрация работы методов описанного выше класса:"
   ]
  },
  {
   "cell_type": "code",
   "execution_count": 12,
   "metadata": {},
   "outputs": [
    {
     "name": "stdout",
     "output_type": "stream",
     "text": [
      "[1]\n",
      "[1, 2]\n",
      "[1, 2, 3]\n",
      "[1, 2, 3, 4]\n",
      "[1, 2, 3, 4, 5]\n",
      "[6, 2, 3, 4, 5]\n",
      "[6, 7, 3, 4, 5]\n",
      "[6, 7, 8, 4, 5]\n",
      "[6, 7, 8, 9, 5]\n",
      "[6, 7, 8, 9, 10]\n",
      "6\n",
      "[7, 8, 9, 10]\n",
      "7\n",
      "[8, 9, 10]\n",
      "8\n",
      "[9, 10]\n",
      "9\n",
      "[10]\n",
      "10\n",
      "[]\n"
     ]
    }
   ],
   "source": [
    "ring1 = queue1(5)\n",
    "n = 0\n",
    "while n < 10:\n",
    "    n += 1\n",
    "    ring1.append(n)\n",
    "    print(ring1.value)\n",
    "\n",
    "while ring1.value:\n",
    "    print(ring1.get())\n",
    "    print(ring1.value)"
   ]
  },
  {
   "cell_type": "markdown",
   "metadata": {},
   "source": [
    "Попробуем добавить несколько элементов в очередь."
   ]
  },
  {
   "cell_type": "code",
   "execution_count": 13,
   "metadata": {},
   "outputs": [
    {
     "name": "stdout",
     "output_type": "stream",
     "text": [
      "[1, 2, 3, 4]\n"
     ]
    }
   ],
   "source": [
    "ring1.append(1)\n",
    "ring1.append(2)\n",
    "ring1.append(3)\n",
    "ring1.append(4)\n",
    "print(ring1.value)"
   ]
  },
  {
   "cell_type": "markdown",
   "metadata": {},
   "source": [
    "Удаляем два элемента:"
   ]
  },
  {
   "cell_type": "code",
   "execution_count": 14,
   "metadata": {},
   "outputs": [
    {
     "name": "stdout",
     "output_type": "stream",
     "text": [
      "[3, 4]\n"
     ]
    }
   ],
   "source": [
    "ring1.get()\n",
    "ring1.get()\n",
    "print(ring1.value)"
   ]
  },
  {
   "cell_type": "markdown",
   "metadata": {},
   "source": [
    "Добавляем вновь:"
   ]
  },
  {
   "cell_type": "code",
   "execution_count": 15,
   "metadata": {},
   "outputs": [
    {
     "name": "stdout",
     "output_type": "stream",
     "text": [
      "[3, 4, 1, 2]\n"
     ]
    }
   ],
   "source": [
    "ring1.append(1)\n",
    "ring1.append(2)\n",
    "print(ring1.value)"
   ]
  },
  {
   "cell_type": "markdown",
   "metadata": {},
   "source": [
    "<h2>Второй вариант реализации очереди</h2>"
   ]
  },
  {
   "cell_type": "markdown",
   "metadata": {},
   "source": [
    "В книге Python Cookbook (O'Reilly Media, Inc., 2002) предлагается интересный вариант реализации. С небольшими изменениями (функция get возвращает только один элемент, а не весь массив) данный класс описан ниже. Самая важная часть происходит тогда, когда кольцо замыкается. Происходит изменение класса объекта с `queue2` на `__FULL`."
   ]
  },
  {
   "cell_type": "code",
   "execution_count": 16,
   "metadata": {},
   "outputs": [],
   "source": [
    "class queue2:\n",
    "    def __init__(self,size_max):\n",
    "        self.max = size_max\n",
    "        self.data = []\n",
    "\n",
    "    class __Full:\n",
    "        def append(self, x):\n",
    "            self.data[self.cur] = x\n",
    "            self.cur = (self.cur + 1) % self.max\n",
    "        def get(self):\n",
    "            res = self.data[self.start]\n",
    "            self.start = (self.start + 1) % self.max\n",
    "            return res\n",
    "\n",
    "    def append(self,x):\n",
    "        self.data.append(x)\n",
    "        if len(self.data) == self.max:\n",
    "            self.cur = 0\n",
    "            self.start = 0\n",
    "            self.__class__ = self.__Full\n",
    "\n",
    "    def get(self):\n",
    "        return self.data.pop(0)"
   ]
  },
  {
   "cell_type": "code",
   "execution_count": 17,
   "metadata": {},
   "outputs": [
    {
     "name": "stdout",
     "output_type": "stream",
     "text": [
      "[1]\n",
      "[1, 2]\n",
      "[1, 2, 3]\n",
      "[1, 2, 3, 4]\n",
      "[1, 2, 3, 4, 5]\n",
      "[6, 2, 3, 4, 5]\n",
      "[6, 7, 3, 4, 5]\n",
      "[6, 7, 8, 4, 5]\n",
      "[6, 7, 8, 9, 5]\n",
      "[6, 7, 8, 9, 10]\n",
      "6\n",
      "[6, 7, 8, 9, 10]\n",
      "7\n",
      "[6, 7, 8, 9, 10]\n",
      "8\n",
      "[6, 7, 8, 9, 10]\n",
      "9\n",
      "[6, 7, 8, 9, 10]\n",
      "10\n",
      "[6, 7, 8, 9, 10]\n",
      "6\n",
      "[6, 7, 8, 9, 10]\n",
      "7\n",
      "[6, 7, 8, 9, 10]\n",
      "8\n",
      "[6, 7, 8, 9, 10]\n",
      "9\n",
      "[6, 7, 8, 9, 10]\n",
      "10\n",
      "[6, 7, 8, 9, 10]\n"
     ]
    }
   ],
   "source": [
    "ring2 = queue2(5)\n",
    "n = 0\n",
    "while n < 10:\n",
    "    n += 1\n",
    "    ring2.append(n)\n",
    "    print(ring2.data)\n",
    "\n",
    "n = 0\n",
    "while n < 10:\n",
    "    n += 1\n",
    "    print(ring2.get())\n",
    "    print(ring2.data)"
   ]
  },
  {
   "cell_type": "markdown",
   "metadata": {},
   "source": [
    "<h2>Обсуждение</h2>\n",
    "\n",
    "`queue2` занимает меньше места и легче читается, изменение класса происходит незаметно для остального модуля. Однако, методы этого класса используют деление, для больших очередей это, возможно, незначительно скажется на производительности. Преимуществом `queue1` в свою очередь является то, что его в любой момент можно разобрать до пустого листа."
   ]
  }
 ],
 "metadata": {
  "kernelspec": {
   "display_name": "Python 3.10.4 64-bit",
   "language": "python",
   "name": "python3"
  },
  "language_info": {
   "codemirror_mode": {
    "name": "ipython",
    "version": 3
   },
   "file_extension": ".py",
   "mimetype": "text/x-python",
   "name": "python",
   "nbconvert_exporter": "python",
   "pygments_lexer": "ipython3",
   "version": "3.10.4"
  },
  "vscode": {
   "interpreter": {
    "hash": "916dbcbb3f70747c44a77c7bcd40155683ae19c65e1c03b4aa3499c5328201f1"
   }
  }
 },
 "nbformat": 4,
 "nbformat_minor": 4
}
