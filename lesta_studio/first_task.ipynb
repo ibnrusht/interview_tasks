{
 "cells": [
  {
   "cell_type": "markdown",
   "metadata": {},
   "source": [
    "<h1>Вступительное задание для вакансии Junior Python Programmer (стажер)</h1>"
   ]
  },
  {
   "cell_type": "markdown",
   "metadata": {},
   "source": [
    "1. На языке Python реализовать алгоритм (функцию) определения четности целого числа, который будет аналогичен нижеприведенному по функциональности, но отличен по своей сути. Объяснить плюсы и минусы обеих реализаций.\n",
    "\n",
    "                Python example:\n",
    "\n",
    "                def isEven(value):return value%2==0"
   ]
  },
  {
   "cell_type": "code",
   "execution_count": 6,
   "metadata": {},
   "outputs": [
    {
     "name": "stdout",
     "output_type": "stream",
     "text": [
      "isEven1(10) result = True, elapsed time 0.00045816\n",
      "isEven2(10) result = True, elapsed time 0.00047170\n"
     ]
    }
   ],
   "source": [
    "import timeit\n",
    "\n",
    "def isEven1(value):return value % 2 == 0\n",
    "def isEven2(value): return value & 1 == 0\n",
    "\n",
    "res = isEven1(2)\n",
    "print(\"isEven1(10) result = {}, elapsed time {:.8f}\".format(res, timeit.timeit('10 % 2 == 0', number=10000)))\n",
    "res = isEven2(2)\n",
    "print(\"isEven2(10) result = {}, elapsed time {:.8f}\".format(res, timeit.timeit('10 & 1 == 0', number=10000)))"
   ]
  },
  {
   "cell_type": "markdown",
   "metadata": {},
   "source": [
    "Функции isEven1 и isEven2 различны с точки зрения теории.\n",
    "Modulo оператор `(%)` возвращает остаток от деления, а деление - процесс довольно энергозатратный и долгий. Функция isEven2 использует оператор bitwise and `(&)` и работает следующим образом:\n",
    "1) представляет число (value) и 1 в двоичной форме\n",
    "2) Логическая операция И применяется к каждому биту этих чисел\n",
    "\n",
    "Дело в том, что четные числа имеют 0 в последнем бите, а нечётные - единицу. Побитовое сравнение чисел с единицей во всех старших битах даст 0 (потому что 1 в двоичном представлении 1 или 01, или 001 и т.д.). Для примера рассмотрим операцию 10 & 1:\n",
    "\n",
    "        1010\n",
    "        &\n",
    "        0001\n",
    "        = 0000\n",
    "\n",
    "С точки зрения теории `(&)` будет работать быстрее, чем `(%)`, однако, современные компиляторы распознают запись `(n % 2)` и подставят вместо неё `(n & 1)`, поэтому с точки зрения производительности функции isEven1 и isEven2 идентичны.\n",
    "\n",
    "Основное преимущество isEven1 заключается в понятности её записи."
   ]
  }
 ],
 "metadata": {
  "kernelspec": {
   "display_name": "Python 3.10.4 64-bit",
   "language": "python",
   "name": "python3"
  },
  "language_info": {
   "codemirror_mode": {
    "name": "ipython",
    "version": 3
   },
   "file_extension": ".py",
   "mimetype": "text/x-python",
   "name": "python",
   "nbconvert_exporter": "python",
   "pygments_lexer": "ipython3",
   "version": "3.10.4"
  },
  "orig_nbformat": 4,
  "vscode": {
   "interpreter": {
    "hash": "916dbcbb3f70747c44a77c7bcd40155683ae19c65e1c03b4aa3499c5328201f1"
   }
  }
 },
 "nbformat": 4,
 "nbformat_minor": 2
}
